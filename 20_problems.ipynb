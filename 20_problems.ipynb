{
  "nbformat": 4,
  "nbformat_minor": 0,
  "metadata": {
    "colab": {
      "provenance": []
    },
    "kernelspec": {
      "name": "python3",
      "display_name": "Python 3"
    },
    "language_info": {
      "name": "python"
    }
  },
  "cells": [
    {
      "cell_type": "code",
      "execution_count": null,
      "metadata": {
        "colab": {
          "base_uri": "https://localhost:8080/"
        },
        "id": "oSrHwyDMIOUI",
        "outputId": "850a016a-40f1-453b-9753-9b2c4f50ce69"
      },
      "outputs": [
        {
          "output_type": "stream",
          "name": "stdout",
          "text": [
            "Enter a number: 987\n",
            "7\n"
          ]
        }
      ],
      "source": [
        "a=int(input(\"Enter a number: \"))\n",
        "print(a%10)\n"
      ]
    },
    {
      "cell_type": "code",
      "source": [
        "#2.Odd or even\n",
        "a=int(input(\"Enter a number: \"))\n",
        "if(a%10)%2==0:\n",
        "  print(\"Even\")\n",
        "else:\n",
        "  print(\"Odd\")\n"
      ],
      "metadata": {
        "colab": {
          "base_uri": "https://localhost:8080/"
        },
        "id": "26zlBwauIlQi",
        "outputId": "91d49e51-038e-4de3-8bf3-6ad90cc25234"
      },
      "execution_count": null,
      "outputs": [
        {
          "output_type": "stream",
          "name": "stdout",
          "text": [
            "Enter a number: 5\n",
            "Odd\n"
          ]
        }
      ]
    },
    {
      "cell_type": "code",
      "source": [
        "#3. Eligible to vote or not\n",
        "age=int(input(\"Enter your age: \"))\n",
        "if age>=18:\n",
        "  print(\"Eligible to vote\")\n",
        "else:\n",
        "  print(\"Not elegible to vote\")"
      ],
      "metadata": {
        "colab": {
          "base_uri": "https://localhost:8080/"
        },
        "id": "IusdxO48Ivg3",
        "outputId": "84c25c62-d4f6-4f7b-f4e7-466711c814b4"
      },
      "execution_count": null,
      "outputs": [
        {
          "output_type": "stream",
          "name": "stdout",
          "text": [
            "Enter your age: 21\n",
            "Eligible to vote\n"
          ]
        }
      ]
    },
    {
      "cell_type": "code",
      "source": [
        "#4. Grade according to percentage of marks\n",
        "per=int(input(\"Enter percentage of marks: \"))\n",
        "if per > 80:\n",
        "  print(\"A Grade\")\n",
        "elif per>60:\n",
        "  print(\"B Grade\")\n",
        "elif per > 40:\n",
        "  print(\"C Grade\")\n",
        "else:\n",
        "  print(\"Fail\")\n"
      ],
      "metadata": {
        "colab": {
          "base_uri": "https://localhost:8080/"
        },
        "id": "WXHPVyLDI0b-",
        "outputId": "2afdd7c7-1865-494f-92db-f29058311e7a"
      },
      "execution_count": null,
      "outputs": [
        {
          "output_type": "stream",
          "name": "stdout",
          "text": [
            "Enter percentage of marks: 66\n",
            "B Grade\n"
          ]
        }
      ]
    },
    {
      "cell_type": "code",
      "source": [
        "#5. day in a week\n",
        "num=int(input(\"Enter number: \"))\n",
        "list=[\"Monday\",\"Tuesday\",\"Wednesday\",\"Thursday\",\"Friday\",\"Saturday\",\"Sunday\"]\n",
        "if 1<=num<=7:\n",
        "  print(\"The day is:\",list[num-1])\n",
        "else:\n",
        "  print(\"Invalid number\")"
      ],
      "metadata": {
        "colab": {
          "base_uri": "https://localhost:8080/"
        },
        "id": "f06qPRlbI3Gl",
        "outputId": "df2a1b4f-01f6-417c-9b08-a984799179be"
      },
      "execution_count": null,
      "outputs": [
        {
          "output_type": "stream",
          "name": "stdout",
          "text": [
            "Enter number: 6\n",
            "The day is: Saturday\n"
          ]
        }
      ]
    },
    {
      "cell_type": "code",
      "source": [
        "#6. 3 digit or not\n",
        "num=int(input(\"Enter a number: \"))\n",
        "if 100<=abs(num)<=999:\n",
        "  print(\"It is a 3 digit number\")\n",
        "else:\n",
        "  print(\"Not a 3 digit number\")"
      ],
      "metadata": {
        "colab": {
          "base_uri": "https://localhost:8080/"
        },
        "id": "mTtjHPGxI8Le",
        "outputId": "a02cd978-8f82-49d3-b41d-c24c35230cad"
      },
      "execution_count": null,
      "outputs": [
        {
          "output_type": "stream",
          "name": "stdout",
          "text": [
            "Enter a number: 57\n",
            "Not a 3 digit number\n"
          ]
        }
      ]
    },
    {
      "cell_type": "code",
      "source": [
        "#7. Positive or not\n",
        "num=float(input(\"Enter a number: \"))\n",
        "if num>0:\n",
        "  print(\"Num is positive\")\n",
        "else:\n",
        "  print(\"Num is negative\")\n"
      ],
      "metadata": {
        "colab": {
          "base_uri": "https://localhost:8080/"
        },
        "id": "eWuogMd8JD1P",
        "outputId": "48b2cdae-2ae4-49d9-e85a-c8f630846107"
      },
      "execution_count": null,
      "outputs": [
        {
          "output_type": "stream",
          "name": "stdout",
          "text": [
            "Enter a number: -8\n",
            "Num is negative\n"
          ]
        }
      ]
    },
    {
      "cell_type": "code",
      "source": [
        "#8. Divisible by 8 and 9\n",
        "num=int(input(\"Enter a number: \"))\n",
        "if (num%8==0) and (num%9==0):\n",
        "  print(\"Num is divisible by both 8 and 9\")\n",
        "else:\n",
        "    print(\"Num is not divisible by both 8 and 9\")"
      ],
      "metadata": {
        "colab": {
          "base_uri": "https://localhost:8080/"
        },
        "id": "FmN3U1SAJGcx",
        "outputId": "2f9d3363-f5ab-4417-8950-ada589dfc745"
      },
      "execution_count": null,
      "outputs": [
        {
          "output_type": "stream",
          "name": "stdout",
          "text": [
            "Enter a number: 76\n",
            "Num is not divisible by both 8 and 9\n"
          ]
        }
      ]
    },
    {
      "cell_type": "code",
      "source": [
        "#9 Largest of 3 numbers\n",
        "a=int(input(\"Enter a number: \"))\n",
        "b=int(input(\"Enter a number: \"))\n",
        "c=int(input(\"Enter a number: \"))\n",
        "if (a>b) and (a>c):\n",
        "  print(\"The largest number is\",a)\n",
        "elif (b>c) and (b>a):\n",
        "  print(\"The largest number is\",b)\n",
        "else:\n",
        "  print(\"The largest number is\",c)\n"
      ],
      "metadata": {
        "colab": {
          "base_uri": "https://localhost:8080/"
        },
        "id": "W9a8ZQgcJjJx",
        "outputId": "ac224232-d8a0-4dc3-a383-d544759d5155"
      },
      "execution_count": null,
      "outputs": [
        {
          "output_type": "stream",
          "name": "stdout",
          "text": [
            "Enter a number: 60\n",
            "Enter a number: 40\n",
            "Enter a number: 0\n",
            "The largest number is 60\n"
          ]
        }
      ]
    },
    {
      "cell_type": "code",
      "source": [
        "#10. Vowel or not\n",
        "char=input(\"Enter character: \")\n",
        "if char=='A' or char=='E' or char=='I' or char=='O' or char=='U' or char=='a' or char=='e' or char=='i' or char=='o' or char=='u':\n",
        "  print(\"It is a vowel\")\n",
        "else:\n",
        "  print(\"It is not a vowel\")\n"
      ],
      "metadata": {
        "colab": {
          "base_uri": "https://localhost:8080/"
        },
        "id": "_OVrLsHWJrNP",
        "outputId": "b1f572cc-79fd-4a63-b773-893d72c916e7"
      },
      "execution_count": null,
      "outputs": [
        {
          "output_type": "stream",
          "name": "stdout",
          "text": [
            "Enter character: a\n",
            "It is a vowel\n"
          ]
        }
      ]
    },
    {
      "cell_type": "code",
      "source": [
        "#11. Pattern using a loop\n",
        "rows=5\n",
        "for i in range(1,rows+1):\n",
        "  for j in range(1,i+1):\n",
        "    print(j,end=\" \")\n",
        "  print()\n"
      ],
      "metadata": {
        "colab": {
          "base_uri": "https://localhost:8080/"
        },
        "id": "2jpM98gZJxd7",
        "outputId": "8e587fc7-77eb-493f-f9ab-9829f36aea5a"
      },
      "execution_count": null,
      "outputs": [
        {
          "output_type": "stream",
          "name": "stdout",
          "text": [
            "1 \n",
            "1 2 \n",
            "1 2 3 \n",
            "1 2 3 4 \n",
            "1 2 3 4 5 \n"
          ]
        }
      ]
    },
    {
      "cell_type": "code",
      "source": [
        "#12. Sum of all numbers\n",
        "n=int(input(\"Enter a number: \"))\n",
        "total=n*(n+1)//2\n",
        "print(\"The sum from 1 to\",n,\"is:\",total)"
      ],
      "metadata": {
        "colab": {
          "base_uri": "https://localhost:8080/"
        },
        "id": "mzai4zwUJ1lc",
        "outputId": "93b77d0b-0381-4e73-cea9-e20f120d5a4f"
      },
      "execution_count": null,
      "outputs": [
        {
          "output_type": "stream",
          "name": "stdout",
          "text": [
            "Enter a number: 11\n",
            "The sum from 1 to 11 is: 66\n"
          ]
        }
      ]
    },
    {
      "cell_type": "code",
      "source": [
        "#13. list with conditions\n",
        "list=[12,75,150,180,145,525,50]\n",
        "for num in list:\n",
        "  if num>500:\n",
        "    break\n",
        "  if num>150:\n",
        "    continue\n",
        "  if num%5==0:\n",
        "    print(num)"
      ],
      "metadata": {
        "colab": {
          "base_uri": "https://localhost:8080/"
        },
        "id": "k5N61WBsJ7o_",
        "outputId": "96a81d56-e5ec-4200-8e89-5a35aeb9ee75"
      },
      "execution_count": null,
      "outputs": [
        {
          "output_type": "stream",
          "name": "stdout",
          "text": [
            "75\n",
            "150\n",
            "145\n"
          ]
        }
      ]
    },
    {
      "cell_type": "code",
      "source": [
        "#14. No of digits\n",
        "num=int(input(\"Enter a number: \"))\n",
        "count=0\n",
        "if num==0:\n",
        "  count=1\n",
        "else:\n",
        "  while num!=0:\n",
        "    num=num//10\n",
        "    count+=1\n",
        "print(\"Total number of digits:\",count)\n"
      ],
      "metadata": {
        "colab": {
          "base_uri": "https://localhost:8080/"
        },
        "id": "9myHZjnNJ_eG",
        "outputId": "b0225ed8-dd7b-4c78-a494-eeb14237282d"
      },
      "execution_count": null,
      "outputs": [
        {
          "output_type": "stream",
          "name": "stdout",
          "text": [
            "Enter a number: 675\n",
            "Total number of digits: 3\n"
          ]
        }
      ]
    },
    {
      "cell_type": "code",
      "source": [
        "#15. Reverse order(list)\n",
        "num=[10,20,30,40,50]\n",
        "for i in range(len(num)-1,-1,-1):\n",
        "  print(num[i])\n"
      ],
      "metadata": {
        "colab": {
          "base_uri": "https://localhost:8080/"
        },
        "id": "TB2LzRaMKMNY",
        "outputId": "f48b9905-cbd5-490b-f964-dca039a0e32b"
      },
      "execution_count": null,
      "outputs": [
        {
          "output_type": "stream",
          "name": "stdout",
          "text": [
            "50\n",
            "40\n",
            "30\n",
            "20\n",
            "10\n"
          ]
        }
      ]
    },
    {
      "cell_type": "code",
      "source": [
        "#16. numbers from -10 to -1\n",
        "for i in range(-10,0):\n",
        "  print(i)"
      ],
      "metadata": {
        "colab": {
          "base_uri": "https://localhost:8080/"
        },
        "id": "MYWjJBU3KNsb",
        "outputId": "63b21a4b-d6f6-43e7-ff5c-627898f11a52"
      },
      "execution_count": null,
      "outputs": [
        {
          "output_type": "stream",
          "name": "stdout",
          "text": [
            "-10\n",
            "-9\n",
            "-8\n",
            "-7\n",
            "-6\n",
            "-5\n",
            "-4\n",
            "-3\n",
            "-2\n",
            "-1\n"
          ]
        }
      ]
    },
    {
      "cell_type": "code",
      "source": [
        "#17. Prime numbers between 1 to 100:\n",
        "print(\"Prime numbers between 1 to 100 are: \")\n",
        "for num in range(2,101):\n",
        "  is_prime=True\n",
        "  for i in range(2,int(num**0.5)+1):\n",
        "    if num%i==0:\n",
        "      is_prime=False\n",
        "      break\n",
        "  if is_prime:\n",
        "    print(num,end=\" \")"
      ],
      "metadata": {
        "colab": {
          "base_uri": "https://localhost:8080/"
        },
        "id": "2d3OIgxOKR6N",
        "outputId": "4e81e1c3-2551-4a97-9650-3045fe4948be"
      },
      "execution_count": null,
      "outputs": [
        {
          "output_type": "stream",
          "name": "stdout",
          "text": [
            "Prime numbers between 1 to 100 are: \n",
            "2 3 5 7 11 13 17 19 23 29 31 37 41 43 47 53 59 61 67 71 73 79 83 89 97 "
          ]
        }
      ]
    },
    {
      "cell_type": "code",
      "source": [
        "#18. Fibonacci series upto 10 terms:\n",
        "n_terms=10\n",
        "a,b=0,1\n",
        "print(\"Fibonacci series upto\",n_terms,\"terms is: \")\n",
        "for _ in range(n_terms):\n",
        "  print(a,end=\" \")\n",
        "  a,b=b,a+b"
      ],
      "metadata": {
        "colab": {
          "base_uri": "https://localhost:8080/"
        },
        "id": "vwUayTLeKVg9",
        "outputId": "2b85f6eb-927f-4870-b036-61937196dcf1"
      },
      "execution_count": null,
      "outputs": [
        {
          "output_type": "stream",
          "name": "stdout",
          "text": [
            "Fibonacci series upto 10 terms is: \n",
            "0 1 1 2 3 5 8 13 21 34 "
          ]
        }
      ]
    },
    {
      "cell_type": "code",
      "source": [
        "#19. Factorial:\n",
        "num=int(input(\"Enter a number: \"))\n",
        "factorial=1\n",
        "for i in range(1,num+1):\n",
        "  factorial*=i\n",
        "print(f\"The Factorial of {num} is {factorial}\")\n"
      ],
      "metadata": {
        "colab": {
          "base_uri": "https://localhost:8080/"
        },
        "id": "bt0kmHRRKZKD",
        "outputId": "ebea9efe-f262-4742-ba60-822ccfe85680"
      },
      "execution_count": null,
      "outputs": [
        {
          "output_type": "stream",
          "name": "stdout",
          "text": [
            "Enter a number: 5\n",
            "The Factorial of 5 is 120\n"
          ]
        }
      ]
    },
    {
      "cell_type": "code",
      "source": [
        "#20. Reverse number:\n",
        "num=int(input(\"Enter a number: \"))\n",
        "rev_num=0\n",
        "while num!=0:\n",
        "  digit=num%10\n",
        "  rev_num=rev_num*10+digit\n",
        "  num=num//10\n",
        "print(\"Reversed number: \",rev_num)\n"
      ],
      "metadata": {
        "colab": {
          "base_uri": "https://localhost:8080/"
        },
        "id": "LFuM1laxsI46",
        "outputId": "197d07e4-1919-48d6-f0ec-e89b3ffd7448"
      },
      "execution_count": null,
      "outputs": [
        {
          "output_type": "stream",
          "name": "stdout",
          "text": [
            "Enter a number: 345\n",
            "Reversed number:  543\n"
          ]
        }
      ]
    }
  ]
}